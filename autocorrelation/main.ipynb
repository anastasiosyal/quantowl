{
 "cells": [
  {
   "cell_type": "code",
   "execution_count": 50,
   "metadata": {},
   "outputs": [],
   "source": [
    "import pandas as pd\n",
    "from matplotlib import pyplot as plt\n",
    "from statsmodels.graphics.tsaplots import plot_acf\n",
    "from pandas_datareader import data\n",
    "import numpy as np\n",
    "import yfinance as yf\n",
    "yf.pdr_override()"
   ]
  },
  {
   "attachments": {},
   "cell_type": "markdown",
   "metadata": {},
   "source": [
    "Fetch Data from Yahoo Finance"
   ]
  },
  {
   "cell_type": "code",
   "execution_count": 37,
   "metadata": {},
   "outputs": [
    {
     "name": "stdout",
     "output_type": "stream",
     "text": [
      "[*********************100%***********************]  1 of 1 completed\n"
     ]
    }
   ],
   "source": [
    "start_date = '1990-01-01'\n",
    "end_date = '2022-12-01'\n",
    "\n",
    "sp500_data = data.get_data_yahoo('^GSPC', start_date, end_date)"
   ]
  },
  {
   "cell_type": "code",
   "execution_count": 38,
   "metadata": {},
   "outputs": [
    {
     "data": {
      "text/html": [
       "<div>\n",
       "<style scoped>\n",
       "    .dataframe tbody tr th:only-of-type {\n",
       "        vertical-align: middle;\n",
       "    }\n",
       "\n",
       "    .dataframe tbody tr th {\n",
       "        vertical-align: top;\n",
       "    }\n",
       "\n",
       "    .dataframe thead th {\n",
       "        text-align: right;\n",
       "    }\n",
       "</style>\n",
       "<table border=\"1\" class=\"dataframe\">\n",
       "  <thead>\n",
       "    <tr style=\"text-align: right;\">\n",
       "      <th></th>\n",
       "      <th>Open</th>\n",
       "      <th>High</th>\n",
       "      <th>Low</th>\n",
       "      <th>Close</th>\n",
       "      <th>Adj Close</th>\n",
       "      <th>Volume</th>\n",
       "    </tr>\n",
       "    <tr>\n",
       "      <th>Date</th>\n",
       "      <th></th>\n",
       "      <th></th>\n",
       "      <th></th>\n",
       "      <th></th>\n",
       "      <th></th>\n",
       "      <th></th>\n",
       "    </tr>\n",
       "  </thead>\n",
       "  <tbody>\n",
       "    <tr>\n",
       "      <th>1990-01-02</th>\n",
       "      <td>353.399994</td>\n",
       "      <td>359.690002</td>\n",
       "      <td>351.980011</td>\n",
       "      <td>359.690002</td>\n",
       "      <td>359.690002</td>\n",
       "      <td>162070000</td>\n",
       "    </tr>\n",
       "    <tr>\n",
       "      <th>1990-01-03</th>\n",
       "      <td>359.690002</td>\n",
       "      <td>360.589996</td>\n",
       "      <td>357.890015</td>\n",
       "      <td>358.760010</td>\n",
       "      <td>358.760010</td>\n",
       "      <td>192330000</td>\n",
       "    </tr>\n",
       "    <tr>\n",
       "      <th>1990-01-04</th>\n",
       "      <td>358.760010</td>\n",
       "      <td>358.760010</td>\n",
       "      <td>352.890015</td>\n",
       "      <td>355.670013</td>\n",
       "      <td>355.670013</td>\n",
       "      <td>177000000</td>\n",
       "    </tr>\n",
       "    <tr>\n",
       "      <th>1990-01-05</th>\n",
       "      <td>355.670013</td>\n",
       "      <td>355.670013</td>\n",
       "      <td>351.350006</td>\n",
       "      <td>352.200012</td>\n",
       "      <td>352.200012</td>\n",
       "      <td>158530000</td>\n",
       "    </tr>\n",
       "    <tr>\n",
       "      <th>1990-01-08</th>\n",
       "      <td>352.200012</td>\n",
       "      <td>354.239990</td>\n",
       "      <td>350.540009</td>\n",
       "      <td>353.790009</td>\n",
       "      <td>353.790009</td>\n",
       "      <td>140110000</td>\n",
       "    </tr>\n",
       "    <tr>\n",
       "      <th>...</th>\n",
       "      <td>...</td>\n",
       "      <td>...</td>\n",
       "      <td>...</td>\n",
       "      <td>...</td>\n",
       "      <td>...</td>\n",
       "      <td>...</td>\n",
       "    </tr>\n",
       "    <tr>\n",
       "      <th>2022-11-23</th>\n",
       "      <td>4000.300049</td>\n",
       "      <td>4033.780029</td>\n",
       "      <td>3998.659912</td>\n",
       "      <td>4027.260010</td>\n",
       "      <td>4027.260010</td>\n",
       "      <td>3279720000</td>\n",
       "    </tr>\n",
       "    <tr>\n",
       "      <th>2022-11-25</th>\n",
       "      <td>4023.340088</td>\n",
       "      <td>4034.020020</td>\n",
       "      <td>4020.760010</td>\n",
       "      <td>4026.120117</td>\n",
       "      <td>4026.120117</td>\n",
       "      <td>1706460000</td>\n",
       "    </tr>\n",
       "    <tr>\n",
       "      <th>2022-11-28</th>\n",
       "      <td>4005.360107</td>\n",
       "      <td>4012.270020</td>\n",
       "      <td>3955.770020</td>\n",
       "      <td>3963.939941</td>\n",
       "      <td>3963.939941</td>\n",
       "      <td>3615430000</td>\n",
       "    </tr>\n",
       "    <tr>\n",
       "      <th>2022-11-29</th>\n",
       "      <td>3964.189941</td>\n",
       "      <td>3976.770020</td>\n",
       "      <td>3937.649902</td>\n",
       "      <td>3957.629883</td>\n",
       "      <td>3957.629883</td>\n",
       "      <td>3546040000</td>\n",
       "    </tr>\n",
       "    <tr>\n",
       "      <th>2022-11-30</th>\n",
       "      <td>3957.179932</td>\n",
       "      <td>4080.110107</td>\n",
       "      <td>3938.580078</td>\n",
       "      <td>4080.110107</td>\n",
       "      <td>4080.110107</td>\n",
       "      <td>6579360000</td>\n",
       "    </tr>\n",
       "  </tbody>\n",
       "</table>\n",
       "<p>8294 rows × 6 columns</p>\n",
       "</div>"
      ],
      "text/plain": [
       "                   Open         High          Low        Close    Adj Close  \\\n",
       "Date                                                                          \n",
       "1990-01-02   353.399994   359.690002   351.980011   359.690002   359.690002   \n",
       "1990-01-03   359.690002   360.589996   357.890015   358.760010   358.760010   \n",
       "1990-01-04   358.760010   358.760010   352.890015   355.670013   355.670013   \n",
       "1990-01-05   355.670013   355.670013   351.350006   352.200012   352.200012   \n",
       "1990-01-08   352.200012   354.239990   350.540009   353.790009   353.790009   \n",
       "...                 ...          ...          ...          ...          ...   \n",
       "2022-11-23  4000.300049  4033.780029  3998.659912  4027.260010  4027.260010   \n",
       "2022-11-25  4023.340088  4034.020020  4020.760010  4026.120117  4026.120117   \n",
       "2022-11-28  4005.360107  4012.270020  3955.770020  3963.939941  3963.939941   \n",
       "2022-11-29  3964.189941  3976.770020  3937.649902  3957.629883  3957.629883   \n",
       "2022-11-30  3957.179932  4080.110107  3938.580078  4080.110107  4080.110107   \n",
       "\n",
       "                Volume  \n",
       "Date                    \n",
       "1990-01-02   162070000  \n",
       "1990-01-03   192330000  \n",
       "1990-01-04   177000000  \n",
       "1990-01-05   158530000  \n",
       "1990-01-08   140110000  \n",
       "...                ...  \n",
       "2022-11-23  3279720000  \n",
       "2022-11-25  1706460000  \n",
       "2022-11-28  3615430000  \n",
       "2022-11-29  3546040000  \n",
       "2022-11-30  6579360000  \n",
       "\n",
       "[8294 rows x 6 columns]"
      ]
     },
     "execution_count": 38,
     "metadata": {},
     "output_type": "execute_result"
    }
   ],
   "source": [
    "sp500_data"
   ]
  },
  {
   "cell_type": "code",
   "execution_count": 51,
   "metadata": {},
   "outputs": [],
   "source": [
    "# sp500_weekly = sp500_data[\"Adj Close\"].resample('W').ohlc().drop(['open', 'high', 'low'], axis=1)\n",
    "# sp500_weekly.rename(columns = {\"close\": \"Adj Close\"}, inplace=True)\n",
    "# sp500_weekly['return'] = sp500_weekly['Adj Close'].pct_change()\n"
   ]
  },
  {
   "cell_type": "code",
   "execution_count": 52,
   "metadata": {},
   "outputs": [
    {
     "data": {
      "text/html": [
       "<div>\n",
       "<style scoped>\n",
       "    .dataframe tbody tr th:only-of-type {\n",
       "        vertical-align: middle;\n",
       "    }\n",
       "\n",
       "    .dataframe tbody tr th {\n",
       "        vertical-align: top;\n",
       "    }\n",
       "\n",
       "    .dataframe thead th {\n",
       "        text-align: right;\n",
       "    }\n",
       "</style>\n",
       "<table border=\"1\" class=\"dataframe\">\n",
       "  <thead>\n",
       "    <tr style=\"text-align: right;\">\n",
       "      <th></th>\n",
       "      <th>Adj Close</th>\n",
       "      <th>return</th>\n",
       "      <th>log_return</th>\n",
       "    </tr>\n",
       "    <tr>\n",
       "      <th>Date</th>\n",
       "      <th></th>\n",
       "      <th></th>\n",
       "      <th></th>\n",
       "    </tr>\n",
       "  </thead>\n",
       "  <tbody>\n",
       "    <tr>\n",
       "      <th>1990-01-07</th>\n",
       "      <td>352.200012</td>\n",
       "      <td>NaN</td>\n",
       "      <td>NaN</td>\n",
       "    </tr>\n",
       "    <tr>\n",
       "      <th>1990-01-14</th>\n",
       "      <td>339.929993</td>\n",
       "      <td>-0.034838</td>\n",
       "      <td>-0.035460</td>\n",
       "    </tr>\n",
       "    <tr>\n",
       "      <th>1990-01-21</th>\n",
       "      <td>339.149994</td>\n",
       "      <td>-0.002295</td>\n",
       "      <td>-0.002297</td>\n",
       "    </tr>\n",
       "    <tr>\n",
       "      <th>1990-01-28</th>\n",
       "      <td>325.799988</td>\n",
       "      <td>-0.039363</td>\n",
       "      <td>-0.040159</td>\n",
       "    </tr>\n",
       "    <tr>\n",
       "      <th>1990-02-04</th>\n",
       "      <td>330.920013</td>\n",
       "      <td>0.015715</td>\n",
       "      <td>0.015593</td>\n",
       "    </tr>\n",
       "    <tr>\n",
       "      <th>...</th>\n",
       "      <td>...</td>\n",
       "      <td>...</td>\n",
       "      <td>...</td>\n",
       "    </tr>\n",
       "    <tr>\n",
       "      <th>2022-11-06</th>\n",
       "      <td>3770.550049</td>\n",
       "      <td>-0.033455</td>\n",
       "      <td>-0.034027</td>\n",
       "    </tr>\n",
       "    <tr>\n",
       "      <th>2022-11-13</th>\n",
       "      <td>3992.929932</td>\n",
       "      <td>0.058978</td>\n",
       "      <td>0.057304</td>\n",
       "    </tr>\n",
       "    <tr>\n",
       "      <th>2022-11-20</th>\n",
       "      <td>3965.340088</td>\n",
       "      <td>-0.006910</td>\n",
       "      <td>-0.006934</td>\n",
       "    </tr>\n",
       "    <tr>\n",
       "      <th>2022-11-27</th>\n",
       "      <td>4026.120117</td>\n",
       "      <td>0.015328</td>\n",
       "      <td>0.015212</td>\n",
       "    </tr>\n",
       "    <tr>\n",
       "      <th>2022-12-04</th>\n",
       "      <td>4080.110107</td>\n",
       "      <td>0.013410</td>\n",
       "      <td>0.013321</td>\n",
       "    </tr>\n",
       "  </tbody>\n",
       "</table>\n",
       "<p>1718 rows × 3 columns</p>\n",
       "</div>"
      ],
      "text/plain": [
       "              Adj Close    return  log_return\n",
       "Date                                         \n",
       "1990-01-07   352.200012       NaN         NaN\n",
       "1990-01-14   339.929993 -0.034838   -0.035460\n",
       "1990-01-21   339.149994 -0.002295   -0.002297\n",
       "1990-01-28   325.799988 -0.039363   -0.040159\n",
       "1990-02-04   330.920013  0.015715    0.015593\n",
       "...                 ...       ...         ...\n",
       "2022-11-06  3770.550049 -0.033455   -0.034027\n",
       "2022-11-13  3992.929932  0.058978    0.057304\n",
       "2022-11-20  3965.340088 -0.006910   -0.006934\n",
       "2022-11-27  4026.120117  0.015328    0.015212\n",
       "2022-12-04  4080.110107  0.013410    0.013321\n",
       "\n",
       "[1718 rows x 3 columns]"
      ]
     },
     "execution_count": 52,
     "metadata": {},
     "output_type": "execute_result"
    }
   ],
   "source": [
    "sp500_weekly"
   ]
  },
  {
   "attachments": {},
   "cell_type": "markdown",
   "metadata": {},
   "source": [
    "## Calculate Monthly Realised Volatility"
   ]
  },
  {
   "cell_type": "code",
   "execution_count": null,
   "metadata": {},
   "outputs": [],
   "source": [
    "window = 21  # trading days in rolling window\n",
    "days_per_year = 252    # trading days per year\n",
    "ann_factor = days_per_year / window\n",
    "df = sp500_data\n",
    "df['log_return'] = np.log(df['Adj Close']).diff()\n",
    "\n",
    "# Var Swap (returns are not demeaned)\n",
    "df['real_var'] = np.square(df['log_return']).rolling(window).sum() * ann_factor\n",
    "df['real_vol'] = np.sqrt(df['real_var'])\n",
    "\n",
    "# Classical (returns are demeaned, dof=1)\n",
    "df['real_var'] = df['log_return'].rolling(window).var() * ann_factor\n",
    "df['real_vol'] = np.sqrt(df['real_var'])\n",
    "\n",
    "df"
   ]
  },
  {
   "cell_type": "code",
   "execution_count": 53,
   "metadata": {},
   "outputs": [
    {
     "data": {
      "text/plain": [
       "<AxesSubplot: xlabel='Date'>"
      ]
     },
     "execution_count": 53,
     "metadata": {},
     "output_type": "execute_result"
    },
    {
     "data": {
      "image/png": "[encoded data removed]",
      "text/plain": [
       "<Figure size 640x480 with 1 Axes>"
      ]
     },
     "metadata": {},
     "output_type": "display_data"
    }
   ],
   "source": [
    "sp500_weekly.plot(y='log_return')"
   ]
  },
  {
   "cell_type": "code",
   "execution_count": 48,
   "metadata": {},
   "outputs": [
    {
     "name": "stderr",
     "output_type": "stream",
     "text": [
      "/home/tasos/.local/lib/python3.10/site-packages/matplotlib/axes/_base.py:2539: UserWarning: Warning: converting a masked element to nan.\n",
      "  xys = np.asarray(xys)\n"
     ]
    },
    {
     "data": {
      "image/png": "[encoded data removed]",
      "text/plain": [
       "<Figure size 640x480 with 1 Axes>"
      ]
     },
     "execution_count": 48,
     "metadata": {},
     "output_type": "execute_result"
    },
    {
     "data": {
      "image/png": "[encoded data removed]",
      "text/plain": [
       "<Figure size 640x480 with 1 Axes>"
      ]
     },
     "metadata": {},
     "output_type": "display_data"
    }
   ],
   "source": [
    "plot_acf(x=sp500_weekly[\"return\"].values.squeeze(), lags=50)"
   ]
  },
  {
   "cell_type": "code",
   "execution_count": 49,
   "metadata": {},
   "outputs": [
    {
     "data": {
      "text/plain": [
       "0.03454044533947623"
      ]
     },
     "execution_count": 49,
     "metadata": {},
     "output_type": "execute_result"
    }
   ],
   "source": [
    "sp500_weekly[\"return\"].autocorr(20)\n"
   ]
  }
 ],
 "metadata": {
  "kernelspec": {
   "display_name": "Python 3",
   "language": "python",
   "name": "python3"
  },
  "language_info": {
   "codemirror_mode": {
    "name": "ipython",
    "version": 3
   },
   "file_extension": ".py",
   "mimetype": "text/x-python",
   "name": "python",
   "nbconvert_exporter": "python",
   "pygments_lexer": "ipython3",
   "version": "3.10.6"
  },
  "orig_nbformat": 4,
  "vscode": {
   "interpreter": {
    "hash": "e7370f93d1d0cde622a1f8e1c04877d8463912d04d973331ad4851f04de6915a"
   }
  }
 },
 "nbformat": 4,
 "nbformat_minor": 2
}
