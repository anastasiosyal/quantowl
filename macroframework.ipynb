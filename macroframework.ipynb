{
 "cells": [
  {
   "attachments": {},
   "cell_type": "markdown",
   "metadata": {},
   "source": [
    "### Macro Framework Rationale\n",
    "\n",
    "#### General Approach\n",
    "\n",
    "Assess Predictive Power of various macro factors and group them into 4 Market conditions:\n",
    "\n",
    "Potential classifiers for Market Conditions\n",
    "1. Random Forest\n",
    "2. Hidden Markov Model\n",
    "3. Gaussian Mixture Modelling\n",
    "4. Wasserstein k-means clustering (winner)\n",
    "\n",
    "Market regimes with Gaussian Mixture Modelling (GMM) \n",
    "1. https://research.macrosynergy.com/classifying-market-regimes/\n",
    "2. https://medium.datadriveninvestor.com/using-an-unsupervised-machine-learning-algorithm-to-detect-different-stock-market-regimes-5c6354a1826a\n",
    "\n",
    "(Consider Rolling 21 day returns)\n",
    "\n",
    "1. Crisis (high cross-asset correlation)\n",
    "2. Inflation \n",
    "3. Steady\n",
    "4. Walking on Ice\n",
    "\n",
    "\n",
    "\n",
    "Evaluate Expected future returns of bonds vs equities\n",
    "\n",
    "\n",
    "#### Macroeconomic Indicators under consideration \n",
    "\n",
    "A list of Economic Indicators worth considering: \n",
    "https://maaw.info/EconomicIndicators.htm\n",
    "\n",
    "\n",
    "The following indicators are grouped by whether they are leading/coincident/lagging\n",
    "\n",
    "1. Beige Book - coincident\n"
   ]
  }
 ],
 "metadata": {
  "language_info": {
   "name": "python"
  },
  "orig_nbformat": 4
 },
 "nbformat": 4,
 "nbformat_minor": 2
}
